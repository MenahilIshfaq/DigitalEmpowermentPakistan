{
 "cells": [
  {
   "cell_type": "markdown",
   "metadata": {},
   "source": [
    "# Red-Blue Nim \n",
    " The game is a two-player turn-based game where players take turns removing marbles from two piles. The game can be played in two versions: Standard and Misère, with different winning and losing conditions. The script allows either a human or a computer to play, with the computer's moves determined by a placeholder decision-making function."
   ]
  },
  {
   "cell_type": "markdown",
   "metadata": {},
   "source": [
    "# Code Breakdown \n",
    "\n",
    "-Class Definition\n",
    "\n",
    "NimGame: This class encapsulates the game logic and handles the state of the game.\n",
    "Initialization\n",
    "__init__(self, num_red, num_blue, version='standard', first_player='computer', depth=None): The constructor initializes the game with the given number of red and blue marbles, the game version, the first player, and an optional search depth for the computer's decision-making.\n",
    "Game Over Check\n",
    "is_game_over(self): This method checks if the game is over by determining if either pile of marbles is empty.\n",
    "\n",
    "-Making a Move\n",
    "\n",
    "make_move(self, player, red, blue): This method updates the game state by removing the specified number of red and blue marbles for the given player.\n",
    "Human Player Move\n",
    "human_move(self): This method handles the human player's move. It prompts the player to enter the number of \n",
    "red and blue marbles to remove, validates the input, and updates the game state.\n",
    "\n",
    "-Computer Player Move\n",
    "\n",
    "computer_move(self): This method handles the computer player's move. It uses the minmax_decision method to determine the move (currently a placeholder that always returns 1 red and 1 blue marble) and updates the game state.\n",
    "\n",
    "-Decision-Making Placeholder\n",
    "\n",
    "minmax_decision(self): This method is a placeholder for the MinMax decision-making algorithm. It currently returns a move of removing 1 red and 1 blue marble.\n",
    "\n",
    "-Main Game Loop\n",
    "\n",
    "play(self): This method contains the main game loop. It alternates turns between the human and computer players until the game is over. It then prints the result based on the game version and the last player to move.\n",
    "\n",
    "-Game Setup\n",
    "\n",
    "Game Parameters: The game is initialized with 5 red marbles, 5 blue marbles, the 'standard' version, and the computer as the first player. The depth parameter is set to None.\n",
    "\n",
    "-Running the Game\n",
    "\n",
    "Starting the Game: The game instance is created with the specified parameters, and the play method is called to start the game loop.\n"
   ]
  },
  {
   "cell_type": "code",
   "execution_count": 2,
   "metadata": {},
   "outputs": [
    {
     "name": "stdout",
     "output_type": "stream",
     "text": [
      "Red: 4, Blue: 4\n",
      "Red: 3, Blue: 2\n",
      "Red: 2, Blue: 1\n",
      "Invalid move. Try again.\n",
      "Red: 1, Blue: 0\n",
      "Game Over! Computer loses!\n"
     ]
    }
   ],
   "source": [
    "class NimGame:\n",
    "    def __init__(self, num_red, num_blue, version='standard', first_player='computer', depth=None):\n",
    "        self.num_red = num_red\n",
    "        self.num_blue = num_blue\n",
    "        self.version = version\n",
    "        self.current_player = first_player\n",
    "        self.depth = depth\n",
    "\n",
    "    def is_game_over(self):\n",
    "        return self.num_red == 0 or self.num_blue == 0\n",
    "\n",
    "    def make_move(self, player, red, blue):\n",
    "        self.num_red -= red\n",
    "        self.num_blue -= blue\n",
    "\n",
    "    def human_move(self):\n",
    "        valid_move = False\n",
    "        while not valid_move:\n",
    "            try:\n",
    "                red = int(input(\"Enter number of red marbles to remove: \"))\n",
    "                blue = int(input(\"Enter number of blue marbles to remove: \"))\n",
    "                if 0 <= red <= self.num_red and 0 <= blue <= self.num_blue:\n",
    "                    self.make_move('human', red, blue)\n",
    "                    valid_move = True\n",
    "                else:\n",
    "                    print(\"Invalid move. Try again.\")\n",
    "            except ValueError:\n",
    "                print(\"Invalid input. Enter integers only.\")\n",
    "\n",
    "    def computer_move(self):\n",
    "        red, blue = self.minmax_decision()\n",
    "        self.make_move('computer', red, blue)\n",
    "\n",
    "    def minmax_decision(self):\n",
    "        return 1, 1  \n",
    "\n",
    "    def play(self):\n",
    "        while not self.is_game_over():\n",
    "            if self.current_player == 'human':\n",
    "                self.human_move()\n",
    "                self.current_player = 'computer'\n",
    "            else:\n",
    "                self.computer_move()\n",
    "                self.current_player = 'human'\n",
    "            print(f\"Red: {self.num_red}, Blue: {self.num_blue}\")\n",
    "\n",
    "        if self.version == 'standard':\n",
    "            print(\"Game Over! You lose!\" if self.current_player == 'human' else \"Game Over! Computer loses!\")\n",
    "        else:\n",
    "            print(\"Game Over! You win!\" if self.current_player == 'human' else \"Game Over! Computer wins!\")\n",
    "\n",
    "num_red = 5\n",
    "num_blue = 5\n",
    "version = 'standard'\n",
    "first_player = 'computer'\n",
    "depth = None\n",
    "\n",
    "game = NimGame(num_red, num_blue, version, first_player, depth)\n",
    "game.play()\n"
   ]
  },
  {
   "cell_type": "code",
   "execution_count": null,
   "metadata": {},
   "outputs": [],
   "source": []
  }
 ],
 "metadata": {
  "kernelspec": {
   "display_name": "Python 3",
   "language": "python",
   "name": "python3"
  },
  "language_info": {
   "codemirror_mode": {
    "name": "ipython",
    "version": 3
   },
   "file_extension": ".py",
   "mimetype": "text/x-python",
   "name": "python",
   "nbconvert_exporter": "python",
   "pygments_lexer": "ipython3",
   "version": "3.10.12"
  }
 },
 "nbformat": 4,
 "nbformat_minor": 2
}
