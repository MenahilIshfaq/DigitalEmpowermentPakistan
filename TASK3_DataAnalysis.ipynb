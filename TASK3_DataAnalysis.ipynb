{
  "nbformat": 4,
  "nbformat_minor": 0,
  "metadata": {
    "colab": {
      "provenance": []
    },
    "kernelspec": {
      "name": "python3",
      "display_name": "Python 3"
    },
    "language_info": {
      "name": "python"
    }
  },
  "cells": [
    {
      "cell_type": "code",
      "execution_count": 1,
      "metadata": {
        "colab": {
          "base_uri": "https://localhost:8080/"
        },
        "id": "BpvD5jvIzwvN",
        "outputId": "ae73ac32-1903-4926-e046-0c65c6949067"
      },
      "outputs": [
        {
          "output_type": "stream",
          "name": "stdout",
          "text": [
            "Mounted at /content/drive\n"
          ]
        }
      ],
      "source": [
        "from google.colab import drive\n",
        "drive.mount('/content/drive')"
      ]
    },
    {
      "cell_type": "code",
      "source": [
        "import pandas as pd\n",
        "import matplotlib.pyplot as plt"
      ],
      "metadata": {
        "id": "l6BT212L2Age"
      },
      "execution_count": 2,
      "outputs": []
    },
    {
      "cell_type": "code",
      "source": [
        "df = pd.read_csv('/content/drive/MyDrive/heart_failure_clinical_records_dataset.csv')"
      ],
      "metadata": {
        "id": "5aLoWM772GXn"
      },
      "execution_count": 3,
      "outputs": []
    },
    {
      "cell_type": "markdown",
      "source": [
        "**Exploratory Data Analysis (EDA)**"
      ],
      "metadata": {
        "id": "Hk4ftAnr2XPh"
      }
    },
    {
      "cell_type": "code",
      "source": [
        "# Display the first few rows of the dataset\n",
        "print(df.head())\n",
        "# Display basic statistics\n",
        "print(df.describe())"
      ],
      "metadata": {
        "colab": {
          "base_uri": "https://localhost:8080/"
        },
        "id": "kAg-SzaZ2RA8",
        "outputId": "81db475d-60d7-44e3-84b2-35201a3e5837"
      },
      "execution_count": 4,
      "outputs": [
        {
          "output_type": "stream",
          "name": "stdout",
          "text": [
            "    age  anaemia  creatinine_phosphokinase  diabetes  ejection_fraction  \\\n",
            "0  75.0        0                       582         0                 20   \n",
            "1  55.0        0                      7861         0                 38   \n",
            "2  65.0        0                       146         0                 20   \n",
            "3  50.0        1                       111         0                 20   \n",
            "4  65.0        1                       160         1                 20   \n",
            "\n",
            "   high_blood_pressure  platelets  serum_creatinine  serum_sodium  sex  \\\n",
            "0                    1  265000.00               1.9           130    1   \n",
            "1                    0  263358.03               1.1           136    1   \n",
            "2                    0  162000.00               1.3           129    1   \n",
            "3                    0  210000.00               1.9           137    1   \n",
            "4                    0  327000.00               2.7           116    0   \n",
            "\n",
            "   smoking  time  DEATH_EVENT  \n",
            "0        0     4            1  \n",
            "1        0     6            1  \n",
            "2        1     7            1  \n",
            "3        0     7            1  \n",
            "4        0     8            1  \n",
            "              age     anaemia  creatinine_phosphokinase    diabetes  \\\n",
            "count  299.000000  299.000000                299.000000  299.000000   \n",
            "mean    60.833893    0.431438                581.839465    0.418060   \n",
            "std     11.894809    0.496107                970.287881    0.494067   \n",
            "min     40.000000    0.000000                 23.000000    0.000000   \n",
            "25%     51.000000    0.000000                116.500000    0.000000   \n",
            "50%     60.000000    0.000000                250.000000    0.000000   \n",
            "75%     70.000000    1.000000                582.000000    1.000000   \n",
            "max     95.000000    1.000000               7861.000000    1.000000   \n",
            "\n",
            "       ejection_fraction  high_blood_pressure      platelets  \\\n",
            "count         299.000000           299.000000     299.000000   \n",
            "mean           38.083612             0.351171  263358.029264   \n",
            "std            11.834841             0.478136   97804.236869   \n",
            "min            14.000000             0.000000   25100.000000   \n",
            "25%            30.000000             0.000000  212500.000000   \n",
            "50%            38.000000             0.000000  262000.000000   \n",
            "75%            45.000000             1.000000  303500.000000   \n",
            "max            80.000000             1.000000  850000.000000   \n",
            "\n",
            "       serum_creatinine  serum_sodium         sex    smoking        time  \\\n",
            "count         299.00000    299.000000  299.000000  299.00000  299.000000   \n",
            "mean            1.39388    136.625418    0.648829    0.32107  130.260870   \n",
            "std             1.03451      4.412477    0.478136    0.46767   77.614208   \n",
            "min             0.50000    113.000000    0.000000    0.00000    4.000000   \n",
            "25%             0.90000    134.000000    0.000000    0.00000   73.000000   \n",
            "50%             1.10000    137.000000    1.000000    0.00000  115.000000   \n",
            "75%             1.40000    140.000000    1.000000    1.00000  203.000000   \n",
            "max             9.40000    148.000000    1.000000    1.00000  285.000000   \n",
            "\n",
            "       DEATH_EVENT  \n",
            "count    299.00000  \n",
            "mean       0.32107  \n",
            "std        0.46767  \n",
            "min        0.00000  \n",
            "25%        0.00000  \n",
            "50%        0.00000  \n",
            "75%        1.00000  \n",
            "max        1.00000  \n"
          ]
        }
      ]
    },
    {
      "cell_type": "markdown",
      "source": [
        "**Number of Rows and Columns**"
      ],
      "metadata": {
        "id": "EOkaf-o44jtf"
      }
    },
    {
      "cell_type": "code",
      "source": [
        "# Number of rows and columns\n",
        "num_rows, num_cols = df.shape\n",
        "print(f'Number of rows: {num_rows}')\n",
        "print(f'Number of columns: {num_cols}')"
      ],
      "metadata": {
        "colab": {
          "base_uri": "https://localhost:8080/"
        },
        "id": "B-Q4uaMk4W8G",
        "outputId": "ea40c2be-ae3e-46cc-afed-9551487d41ca"
      },
      "execution_count": 13,
      "outputs": [
        {
          "output_type": "stream",
          "name": "stdout",
          "text": [
            "Number of rows: 299\n",
            "Number of columns: 13\n"
          ]
        }
      ]
    },
    {
      "cell_type": "markdown",
      "source": [
        "**Checking for Null Items**"
      ],
      "metadata": {
        "id": "uzyTEOsE4ro9"
      }
    },
    {
      "cell_type": "code",
      "source": [
        "# Checking for null items\n",
        "null_counts = df.isnull().sum()\n",
        "print('Number of null items in each column:')\n",
        "print(null_counts)"
      ],
      "metadata": {
        "colab": {
          "base_uri": "https://localhost:8080/"
        },
        "id": "shOCyhJW4ZZZ",
        "outputId": "9d3f1b32-8718-41f8-a19f-4c7933ad7214"
      },
      "execution_count": 14,
      "outputs": [
        {
          "output_type": "stream",
          "name": "stdout",
          "text": [
            "Number of null items in each column:\n",
            "age                         0\n",
            "anaemia                     0\n",
            "creatinine_phosphokinase    0\n",
            "diabetes                    0\n",
            "ejection_fraction           0\n",
            "high_blood_pressure         0\n",
            "platelets                   0\n",
            "serum_creatinine            0\n",
            "serum_sodium                0\n",
            "sex                         0\n",
            "smoking                     0\n",
            "time                        0\n",
            "DEATH_EVENT                 0\n",
            "dtype: int64\n"
          ]
        }
      ]
    },
    {
      "cell_type": "markdown",
      "source": [
        "**Display Column Names and Data Types**"
      ],
      "metadata": {
        "id": "ZCfqOwJG4wua"
      }
    },
    {
      "cell_type": "code",
      "source": [
        "# Display column names and their data types\n",
        "print('Column names and data types:')\n",
        "print(df.dtypes)"
      ],
      "metadata": {
        "colab": {
          "base_uri": "https://localhost:8080/"
        },
        "id": "6oJEhq7b4f8m",
        "outputId": "6b92c44e-97c4-46e5-fea4-d6088441ad9d"
      },
      "execution_count": 15,
      "outputs": [
        {
          "output_type": "stream",
          "name": "stdout",
          "text": [
            "Column names and data types:\n",
            "age                         float64\n",
            "anaemia                       int64\n",
            "creatinine_phosphokinase      int64\n",
            "diabetes                      int64\n",
            "ejection_fraction             int64\n",
            "high_blood_pressure           int64\n",
            "platelets                   float64\n",
            "serum_creatinine            float64\n",
            "serum_sodium                  int64\n",
            "sex                           int64\n",
            "smoking                       int64\n",
            "time                          int64\n",
            "DEATH_EVENT                   int64\n",
            "dtype: object\n"
          ]
        }
      ]
    },
    {
      "cell_type": "markdown",
      "source": [
        "**Data Visualization**"
      ],
      "metadata": {
        "id": "LV4k9BN82j0l"
      }
    },
    {
      "cell_type": "markdown",
      "source": [
        "**Histogram**"
      ],
      "metadata": {
        "id": "djkCEMZ62psW"
      }
    },
    {
      "cell_type": "code",
      "source": [
        "# Histogram of sepal lengths\n",
        "plt.hist(df['age'], bins=20, color='blue', edgecolor='black')\n",
        "plt.title('Distribution of age')\n",
        "plt.xlabel('age')\n",
        "plt.ylabel('Frequency')\n",
        "plt.show()"
      ],
      "metadata": {
        "colab": {
          "base_uri": "https://localhost:8080/",
          "height": 472
        },
        "id": "KD3Loqmk2gHU",
        "outputId": "5a365a8b-d740-4f23-f37c-6b5c6d153940"
      },
      "execution_count": 6,
      "outputs": [
        {
          "output_type": "display_data",
          "data": {
            "text/plain": [
              "<Figure size 640x480 with 1 Axes>"
            ],
            "image/png": "[encoded data removed]"
          },
          "metadata": {}
        }
      ]
    },
    {
      "cell_type": "markdown",
      "source": [
        "**Scatter Plot**"
      ],
      "metadata": {
        "id": "QTyBu1Xs2--Q"
      }
    },
    {
      "cell_type": "code",
      "source": [
        "# Scatter plot of sepal length vs sepal width\n",
        "plt.scatter(df['sex'], df['age'], color='red')\n",
        "plt.title('age vs sex')\n",
        "plt.xlabel('sex')\n",
        "plt.ylabel('age')\n",
        "plt.show()"
      ],
      "metadata": {
        "colab": {
          "base_uri": "https://localhost:8080/",
          "height": 472
        },
        "id": "qkkIy5VN3C3-",
        "outputId": "b95e51d9-cf99-44d8-f0af-644858a601ba"
      },
      "execution_count": 10,
      "outputs": [
        {
          "output_type": "display_data",
          "data": {
            "text/plain": [
              "<Figure size 640x480 with 1 Axes>"
            ],
            "image/png": "[encoded data removed]"
          },
          "metadata": {}
        }
      ]
    },
    {
      "cell_type": "markdown",
      "source": [
        "**Box Plot**"
      ],
      "metadata": {
        "id": "pB9Tevcs3sUv"
      }
    },
    {
      "cell_type": "code",
      "source": [
        "# Box plot of petal lengths\n",
        "plt.boxplot(df['platelets'])\n",
        "plt.title('Box Plot of platelets')\n",
        "plt.ylabel('platelets')\n",
        "plt.show()"
      ],
      "metadata": {
        "colab": {
          "base_uri": "https://localhost:8080/",
          "height": 452
        },
        "id": "MLMWjZZb3w0N",
        "outputId": "d7e32771-1d4c-409f-a6a2-80c1609a54ee"
      },
      "execution_count": 12,
      "outputs": [
        {
          "output_type": "display_data",
          "data": {
            "text/plain": [
              "<Figure size 640x480 with 1 Axes>"
            ],
            "image/png": "[encoded data removed]"
          },
          "metadata": {}
        }
      ]
    }
  ]
}